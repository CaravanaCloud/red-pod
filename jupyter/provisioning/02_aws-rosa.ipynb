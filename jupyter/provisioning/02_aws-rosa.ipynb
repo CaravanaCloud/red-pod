{
 "cells": [
  {
   "cell_type": "markdown",
   "metadata": {},
   "source": [
    "# Red Hat ROSA"
   ]
  },
  {
   "cell_type": "markdown",
   "metadata": {},
   "source": [
    "## Disclaimer\n",
    "\n",
    "Before provisioning a cluster, or using any cloud computing service, consider the pricing and security implications.\n",
    "https://aws.amazon.com/rosa/pricing/"
   ]
  },
  {
   "cell_type": "markdown",
   "metadata": {},
   "source": [
    "## Authenticate with AWS CLI\n",
    "If you don't have your AWS credentials, obtain them using the [AWS Identity and Management Console](https://console.aws.amazon.com/iamv2/home\n",
    ")\n",
    "```\n",
    "aws configure\n",
    "```\n"
   ]
  },
  {
   "cell_type": "code",
   "execution_count": null,
   "metadata": {},
   "outputs": [],
   "source": [
    "Verify AWS authentication:"
   ]
  },
  {
   "cell_type": "code",
   "execution_count": 6,
   "metadata": {},
   "outputs": [
    {
     "name": "stdout",
     "output_type": "stream",
     "text": [
      "{\n",
      "    \"UserId\": \"AIDAT5TK4ZONHNABNETAH\",\n",
      "    \"Account\": \"269733383066\",\n",
      "    \"Arn\": \"arn:aws:iam::269733383066:user/jufaerma\"\n",
      "}\n"
     ]
    }
   ],
   "source": [
    "! aws sts get-caller-identity"
   ]
  },
  {
   "cell_type": "markdown",
   "metadata": {},
   "source": [
    "## Authenticate with ROSA CLI\n",
    "\n",
    "```\n",
    "rosa login\n",
    "```"
   ]
  },
  {
   "cell_type": "markdown",
   "metadata": {},
   "source": [
    "Verify rosa authentication:"
   ]
  },
  {
   "cell_type": "code",
   "execution_count": 6,
   "metadata": {},
   "outputs": [
    {
     "name": "stdout",
     "output_type": "stream",
     "text": [
      "AWS Account ID:               269733383066\n",
      "AWS Default Region:           ap-northeast-1\n",
      "AWS ARN:                      arn:aws:iam::269733383066:user/jufaerma\n",
      "OCM API:                      https://api.openshift.com\n",
      "OCM Account ID:               1zXbM2cQHTP91cX7Wv8mK178ryp\n",
      "OCM Account Name:             Julio Faerman\n",
      "OCM Account Username:         faermanj\n",
      "OCM Account Email:            jufaerma@redhat.com\n",
      "OCM Organization ID:          1zXbLzxQMeUYrfYqtdpURL2t0Jq\n",
      "OCM Organization Name:        RED HAT SL\n",
      "OCM Organization External ID: 15341652\n",
      "\n"
     ]
    }
   ],
   "source": [
    "! rosa whoami "
   ]
  },
  {
   "cell_type": "markdown",
   "metadata": {},
   "source": [
    "## Run pre-flight checks \n",
    "\n",
    "https://docs.openshift.com/rosa/rosa_cli/rosa-get-started-cli.html#rosa-init_rosa-getting-started-cli\n",
    "\n",
    "Run the following command in your terminal to setup your ROSA authentication token and run this initial verification to check quotas, permissions, users, and other resources.\n",
    "\n",
    "```\n",
    "rosa init -y\n",
    "```\n",
    "You should see the checks output similar to the following:\n",
    "```\n",
    "I: Logged in as 'faermanj' on 'https://api.openshift.com'\n",
    "I: Validating AWS credentials...\n",
    "I: AWS credentials are valid!\n",
    "I: Verifying permissions for non-STS clusters\n",
    "I: Validating SCP policies...\n",
    "I: AWS SCP policies ok\n",
    "I: Validating AWS quota...\n",
    "I: AWS quota ok. If cluster installation fails, validate actual AWS resource usage against https://docs.openshift.com/rosa/rosa_getting_started/rosa-required-aws-service-quotas.html\n",
    "I: Ensuring cluster administrator user 'osdCcsAdmin'...\n",
    "I: Admin user 'osdCcsAdmin' already exists!\n",
    "I: Validating SCP policies for 'osdCcsAdmin'...\n",
    "I: AWS SCP policies ok\n",
    "I: Validating cluster creation...\n",
    "I: Cluster creation valid\n",
    "I: Verifying whether OpenShift command-line tool is available...\n",
    "I: Current OpenShift Client Version: 4.10.14\n",
    "```"
   ]
  },
  {
   "cell_type": "markdown",
   "metadata": {},
   "source": [
    "Select a cluster name and create the cluster with default settings."
   ]
  },
  {
   "cell_type": "markdown",
   "metadata": {},
   "source": []
  },
  {
   "cell_type": "code",
   "execution_count": 1,
   "metadata": {},
   "outputs": [
    {
     "data": {
      "text/plain": [
       "'rhnb-rosa'"
      ]
     },
     "execution_count": 1,
     "metadata": {},
     "output_type": "execute_result"
    }
   ],
   "source": [
    "cluster_name=\"rhnb-rosa\"\n",
    "cluster_name"
   ]
  },
  {
   "cell_type": "code",
   "execution_count": 20,
   "metadata": {},
   "outputs": [
    {
     "name": "stdout",
     "output_type": "stream",
     "text": [
      "INFO: Creating cluster 'rhnb-rosa'\n",
      "INFO: To view a list of clusters and their status, run 'rosa list clusters'\n",
      "ERR: Failed to create cluster: Duplicate cluster name. There is already a cluster with the name 'rhnb-rosa' in the organization '1zXbLzxQMeUYrfYqtdpURL2t0Jq'\n"
     ]
    }
   ],
   "source": [
    "! rosa create cluster --cluster-name={cluster_name} | tee .rosa_create_cluster.log"
   ]
  },
  {
   "cell_type": "markdown",
   "metadata": {},
   "source": [
    "Wait until cluster is created."
   ]
  },
  {
   "cell_type": "code",
   "execution_count": 13,
   "metadata": {},
   "outputs": [
    {
     "name": "stdout",
     "output_type": "stream",
     "text": [
      "installing\n"
     ]
    }
   ],
   "source": [
    "! rosa describe cluster -c {cluster_name} -o json | jq -r \".status.state\""
   ]
  },
  {
   "cell_type": "markdown",
   "metadata": {},
   "source": [
    "You can watch the cluster being created with:\n"
   ]
  },
  {
   "cell_type": "code",
   "execution_count": 17,
   "metadata": {},
   "outputs": [
    {
     "name": "stdout",
     "output_type": "stream",
     "text": [
      "rosa logs install -c rhnb-rosa --watch\n"
     ]
    }
   ],
   "source": [
    "! echo rosa logs install -c {cluster_name} --watch\n"
   ]
  },
  {
   "cell_type": "code",
   "execution_count": null,
   "metadata": {},
   "outputs": [],
   "source": [
    "## Cleanup"
   ]
  },
  {
   "cell_type": "code",
   "execution_count": null,
   "metadata": {},
   "outputs": [],
   "source": [
    "After you're done, remember to delete the cluster."
   ]
  },
  {
   "cell_type": "code",
   "execution_count": 19,
   "metadata": {},
   "outputs": [
    {
     "name": "stdout",
     "output_type": "stream",
     "text": [
      "\u001b[0;36mI:\u001b[m Cluster 'rhnb-rosa' will start uninstalling now\n",
      "\u001b[0;36mI:\u001b[m To watch your cluster uninstallation logs, run 'rosa logs uninstall -c rhnb-rosa --watch'\n"
     ]
    }
   ],
   "source": [
    "! rosa delete cluster -c {cluster_name} -y"
   ]
  },
  {
   "cell_type": "code",
   "execution_count": 21,
   "metadata": {},
   "outputs": [
    {
     "name": "stdout",
     "output_type": "stream",
     "text": [
      "rosa logs uninstall -c rhnb-rosa --watch\n"
     ]
    }
   ],
   "source": [
    "! echo rosa logs uninstall -c {cluster_name} --watch"
   ]
  },
  {
   "cell_type": "code",
   "execution_count": null,
   "metadata": {},
   "outputs": [],
   "source": []
  }
 ],
 "metadata": {
  "kernelspec": {
   "display_name": "Python 3.8.13 64-bit ('3.8.13')",
   "language": "python",
   "name": "python3"
  },
  "language_info": {
   "codemirror_mode": {
    "name": "ipython",
    "version": 3
   },
   "file_extension": ".py",
   "mimetype": "text/x-python",
   "name": "python",
   "nbconvert_exporter": "python",
   "pygments_lexer": "ipython3",
   "version": "3.8.13"
  },
  "orig_nbformat": 4,
  "vscode": {
   "interpreter": {
    "hash": "110cc1dee26208153f2972f08a2ad52b6a56238dc66d48e87fb757ef2996db56"
   }
  }
 },
 "nbformat": 4,
 "nbformat_minor": 2
}

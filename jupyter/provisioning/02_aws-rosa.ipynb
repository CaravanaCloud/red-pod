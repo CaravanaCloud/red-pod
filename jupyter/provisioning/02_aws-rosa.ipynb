{
 "cells": [
  {
   "cell_type": "markdown",
   "metadata": {},
   "source": [
    "# Red Hat ROSA"
   ]
  },
  {
   "cell_type": "markdown",
   "metadata": {},
   "source": [
    "## Disclaimer\n",
    "\n",
    "Before provisioning a cluster, or using any cloud computing service, consider the pricing and security implications.\n",
    "https://aws.amazon.com/rosa/pricing/"
   ]
  },
  {
   "cell_type": "markdown",
   "metadata": {},
   "source": [
    "## Configure your AWS account authentication.\n",
    "If you don't have your AWS credentials, obtain them using the [AWS Identity and Management Console](https://console.aws.amazon.com/iamv2/home\n",
    ")\n",
    "```\n",
    "aws configure\n",
    "```\n"
   ]
  },
  {
   "cell_type": "code",
   "execution_count": null,
   "metadata": {},
   "outputs": [],
   "source": [
    "Verify AWS authentication:"
   ]
  },
  {
   "cell_type": "code",
   "execution_count": 6,
   "metadata": {},
   "outputs": [
    {
     "name": "stdout",
     "output_type": "stream",
     "text": [
      "{\n",
      "    \"UserId\": \"AIDAT5TK4ZONHNABNETAH\",\n",
      "    \"Account\": \"269733383066\",\n",
      "    \"Arn\": \"arn:aws:iam::269733383066:user/jufaerma\"\n",
      "}\n"
     ]
    }
   ],
   "source": [
    "! aws sts get-caller-identity"
   ]
  },
  {
   "cell_type": "markdown",
   "metadata": {},
   "source": [
    "## Run pre-flight checks \n",
    "\n",
    "https://docs.openshift.com/rosa/rosa_cli/rosa-get-started-cli.html#rosa-init_rosa-getting-started-cli\n",
    "\n",
    "Run the following command in your terminal to setup your ROSA authentication token and run this initial verification to check quotas, permissions, users, and other resources.\n",
    "\n",
    "```\n",
    "rosa init -y\n",
    "```\n",
    "You should see the checks output similar to the following:\n",
    "```\n",
    "I: Logged in as 'faermanj' on 'https://api.openshift.com'\n",
    "I: Validating AWS credentials...\n",
    "I: AWS credentials are valid!\n",
    "I: Verifying permissions for non-STS clusters\n",
    "I: Validating SCP policies...\n",
    "I: AWS SCP policies ok\n",
    "I: Validating AWS quota...\n",
    "I: AWS quota ok. If cluster installation fails, validate actual AWS resource usage against https://docs.openshift.com/rosa/rosa_getting_started/rosa-required-aws-service-quotas.html\n",
    "I: Ensuring cluster administrator user 'osdCcsAdmin'...\n",
    "I: Admin user 'osdCcsAdmin' already exists!\n",
    "I: Validating SCP policies for 'osdCcsAdmin'...\n",
    "I: AWS SCP policies ok\n",
    "I: Validating cluster creation...\n",
    "I: Cluster creation valid\n",
    "I: Verifying whether OpenShift command-line tool is available...\n",
    "I: Current OpenShift Client Version: 4.10.14\n",
    "```"
   ]
  },
  {
   "cell_type": "markdown",
   "metadata": {},
   "source": [
    "Select a cluster name and create the cluster with default settings."
   ]
  },
  {
   "cell_type": "markdown",
   "metadata": {},
   "source": []
  },
  {
   "cell_type": "code",
   "execution_count": 7,
   "metadata": {},
   "outputs": [
    {
     "ename": "SyntaxError",
     "evalue": "invalid syntax (3161078329.py, line 1)",
     "output_type": "error",
     "traceback": [
      "\u001b[0;36m  Input \u001b[0;32mIn [7]\u001b[0;36m\u001b[0m\n\u001b[0;31m    rosa whoami\u001b[0m\n\u001b[0m         ^\u001b[0m\n\u001b[0;31mSyntaxError\u001b[0m\u001b[0;31m:\u001b[0m invalid syntax\n"
     ]
    }
   ],
   "source": [
    "cluster_name=\"rhnb-rosa\"\n",
    "cluster_name"
   ]
  },
  {
   "cell_type": "code",
   "execution_count": null,
   "metadata": {},
   "outputs": [],
   "source": [
    "! rosa create cluster --cluster-name={cluster_name}"
   ]
  },
  {
   "cell_type": "code",
   "execution_count": null,
   "metadata": {},
   "outputs": [],
   "source": []
  }
 ],
 "metadata": {
  "kernelspec": {
   "display_name": "Python 3.8.13 64-bit ('3.8.13')",
   "language": "python",
   "name": "python3"
  },
  "language_info": {
   "codemirror_mode": {
    "name": "ipython",
    "version": 3
   },
   "file_extension": ".py",
   "mimetype": "text/x-python",
   "name": "python",
   "nbconvert_exporter": "python",
   "pygments_lexer": "ipython3",
   "version": "3.8.13"
  },
  "orig_nbformat": 4,
  "vscode": {
   "interpreter": {
    "hash": "110cc1dee26208153f2972f08a2ad52b6a56238dc66d48e87fb757ef2996db56"
   }
  }
 },
 "nbformat": 4,
 "nbformat_minor": 2
}

{
 "cells": [
  {
   "cell_type": "code",
   "execution_count": 1,
   "metadata": {},
   "outputs": [
    {
     "name": "stdout",
     "output_type": "stream",
     "text": [
      "env: UNIQ=rhnb-ipi-aws\n"
     ]
    }
   ],
   "source": [
    "# Unique name for resources\n",
    "uniq=\"rhnb-ipi-aws\"\n",
    "%env UNIQ {uniq}"
   ]
  },
  {
   "cell_type": "code",
   "execution_count": 2,
   "metadata": {},
   "outputs": [
    {
     "name": "stdout",
     "output_type": "stream",
     "text": [
      "env: SSH_KEY=/tmp/sshkey\n",
      "-rw------- 1 gitpod gitpod 444 Jul 12 13:26 /tmp/sshkey\n",
      "-rw-r--r-- 1 gitpod gitpod 121 Jul 12 13:26 /tmp/sshkey.pub\n"
     ]
    }
   ],
   "source": [
    "%env SSH_KEY /tmp/sshkey\n",
    "!rm -f \"$SSH_KEY\"\n",
    "!ssh-keygen -b \"2048\" -t \"ed25519\" -f \"$SSH_KEY\" -q -N \"\"\n",
    "!ls -l \"$SSH_KEY\"*"
   ]
  },
  {
   "cell_type": "code",
   "execution_count": 9,
   "metadata": {},
   "outputs": [
    {
     "name": "stdout",
     "output_type": "stream",
     "text": [
      "total 4.0K\n",
      "    143304 drwxr-xr-x 2 gitpod gitpod    6 Jul 12 13:36 .\n",
      "2013447704 drwxr-xr-x 8 gitpod gitpod 4.0K Jul 12 13:36 ..\n"
     ]
    }
   ],
   "source": [
    "# Clear Install Dir\n",
    "install_dir=\"/workspace/red-pod/ocp-install-dir\"\n",
    "! rm -rf {install_dir}\n",
    "! mkdir -p {install_dir}\n",
    "! ls -liah {install_dir}"
   ]
  },
  {
   "cell_type": "code",
   "execution_count": 5,
   "metadata": {},
   "outputs": [
    {
     "data": {
      "text/plain": [
       "('rhnb-ipi-aws', 'info')"
      ]
     },
     "execution_count": 5,
     "metadata": {},
     "output_type": "execute_result"
    }
   ],
   "source": [
    "cluster_name=uniq\n",
    "log_level=\"info\"\n",
    "%env OCP_NAME {cluster_name}\n",
    "(cluster_name, log_level)\n"
   ]
  },
  {
   "cell_type": "code",
   "execution_count": 29,
   "metadata": {},
   "outputs": [
    {
     "name": "stdout",
     "output_type": "stream",
     "text": [
      "5\n",
      "1\n"
     ]
    }
   ],
   "source": [
    "!echo $PULL_SECRET | wc -c\n",
    "!echo $OCP_BASE_DOMAIN | wc -c"
   ]
  },
  {
   "cell_type": "code",
   "execution_count": 12,
   "metadata": {},
   "outputs": [
    {
     "name": "stdout",
     "output_type": "stream",
     "text": [
      "RUN ON TERMINAL: openshift-install create install-config --dir \"/workspace/red-pod/ocp-install-dir\"\n"
     ]
    }
   ],
   "source": [
    "! echo RUN ON TERMINAL: openshift-install create install-config --dir \\\"{install_dir}\\\""
   ]
  },
  {
   "cell_type": "code",
   "execution_count": 28,
   "metadata": {},
   "outputs": [
    {
     "name": "stdout",
     "output_type": "stream",
     "text": [
      "env: OCP_INSTALL_TEMPLATE=\"/workspace/red-pod/jupyter/provisioning/install-config.envsubst.yaml\"\n",
      " asdf"
     ]
    }
   ],
   "source": [
    "%env OCP_INSTALL_TEMPLATE \"/workspace/red-pod/jupyter/provisioning/install-config.envsubst.yaml\"\n",
    "! envsubst < \"/workspace/red-pod/jupyter/provisioning/install-config.envsubst.yaml\" > \"/workspace/red-pod/install-config/install-config.yaml\"\n",
    "! head -n 25 \"/workspace/red-pod/install-config/install-config.yaml\""
   ]
  },
  {
   "cell_type": "code",
   "execution_count": 8,
   "metadata": {},
   "outputs": [
    {
     "name": "stdout",
     "output_type": "stream",
     "text": [
      "{\"auths\":{\"cloud.openshift.com\":{\"auth\":\"b3BlbnNoaWZ0LXJlbGVhc2UtZGV2K29jbV9hY2Nlc3NfYzZiMjdhMjA5MzI1NDY4ZGEyNGNhNmU1ZmE4MGQwOTg6U0pYRDQ2R05MN0Y5VFAxN1lIMjBIM1RQRDJaMUNZVU5ZUUJHS0tJMzA2M0FROUU1RVc0QTFLUldNUTRFVVUwNQ==\",\"email\":\"jufaerma@redhat.com\"},\"quay.io\":{\"auth\":\"b3BlbnNoaWZ0LXJlbGVhc2UtZGV2K29jbV9hY2Nlc3NfYzZiMjdhMjA5MzI1NDY4ZGEyNGNhNmU1ZmE4MGQwOTg6U0pYRDQ2R05MN0Y5VFAxN1lIMjBIM1RQRDJaMUNZVU5ZUUJHS0tJMzA2M0FROUU1RVc0QTFLUldNUTRFVVUwNQ==\",\"email\":\"jufaerma@redhat.com\"},\"registry.connect.redhat.com\":{\"auth\":\"fHVoYy1wb29sLWVlZDUyZjc1LTkyMGQtNDhjMy1iM2VhLTNkNGFlOTM2ODBjMzpleUpoYkdjaU9pSlNVelV4TWlKOS5leUp6ZFdJaU9pSXdPR1V6TXpGa1pqRTNaRFkwTVRsa1lUSmpNMlk1TUdFeE1qQmlORFUzWVNKOS5aeS1RWk83TV9uV3daSHQ4STJpck5uMkFob0ZyU1g0SnBsc1lMcV92T2NDLWYyN1VscTN6NkhzN0xwN3dfWlQ2R05oaHZVc3R0eFk4aTd3eFlwNnZGcEJrelgxOFlFc01Mc3l6Wnl5TGl0YmYtU2E5VHZ6M1pmYnBSVmVGTXlxcVBpRnhLR21fNW10ZTd6dlBIcHRHYl9FQTlBbU5XMnpQQ3gtVE1rTTl6bGhwZ2NGcTF3NWhqdVlqRzN3alhqa0RoZjZ5Wmd5dUs1LWFKNzdwTGtnMVFBRG4xM2MxWHhRQ0xkVkNFSU1tTG55STlyZlNWX1FuSk1Lekp3MHdRbTBLdThRT2NHX2xMb0lfbW12MVZfSFQyX0NRTno0ZVp0VnM1UG80am0zUEtYblRodjVKanRBQ2tKbVdHdXlZUjU5YmJTMGx3al9UVHE0Z2ZCYkt1bWx5MDFaZnJnOXZaRHdCbWRjZ2wzT2F4Q2NuX3BlblZ2TnJTT3JqOXhheGN2VEs3dkg2OUFhenpkdEx6UTNfU0l4R1lzLWVlMkMyMl9EdTUwQXA2Y1dkY09XSzZTUDlqSERKRjV5SW1PeXRBY1NJem9nTFhHZFRSQ3BmZUJFWlZGVnNFbUZ2X29DV3ZQUFdGek5HdWRoRTdWY2FhX2RCT0o0c21MaTY5SkRieEtISUw1bHRQNlI2cGxWTGpma1N2WkRMNzFvVmo4bnhrMkxSVjcxbVBxUFhoRTFkaGgtdVBTM1FKeW02aWQ5SUdqMHZncDFFYnBrSXJuOTdxY1BSMFhaWFQ5WkdkQ19qdGlVbW5mcGVPQVdxOXpmcmlpWk5UZ2VJbU56aVdkVWNJLVBldWZaMHhNNkxwTFVZVlIwNG15UlBqZTNmNHlZUXpfLTB1V0dzMkJVdEtqWQ==\",\"email\":\"jufaerma@redhat.com\"},\"registry.redhat.io\":{\"auth\":\"fHVoYy1wb29sLWVlZDUyZjc1LTkyMGQtNDhjMy1iM2VhLTNkNGFlOTM2ODBjMzpleUpoYkdjaU9pSlNVelV4TWlKOS5leUp6ZFdJaU9pSXdPR1V6TXpGa1pqRTNaRFkwTVRsa1lUSmpNMlk1TUdFeE1qQmlORFUzWVNKOS5aeS1RWk83TV9uV3daSHQ4STJpck5uMkFob0ZyU1g0SnBsc1lMcV92T2NDLWYyN1VscTN6NkhzN0xwN3dfWlQ2R05oaHZVc3R0eFk4aTd3eFlwNnZGcEJrelgxOFlFc01Mc3l6Wnl5TGl0YmYtU2E5VHZ6M1pmYnBSVmVGTXlxcVBpRnhLR21fNW10ZTd6dlBIcHRHYl9FQTlBbU5XMnpQQ3gtVE1rTTl6bGhwZ2NGcTF3NWhqdVlqRzN3alhqa0RoZjZ5Wmd5dUs1LWFKNzdwTGtnMVFBRG4xM2MxWHhRQ0xkVkNFSU1tTG55STlyZlNWX1FuSk1Lekp3MHdRbTBLdThRT2NHX2xMb0lfbW12MVZfSFQyX0NRTno0ZVp0VnM1UG80am0zUEtYblRodjVKanRBQ2tKbVdHdXlZUjU5YmJTMGx3al9UVHE0Z2ZCYkt1bWx5MDFaZnJnOXZaRHdCbWRjZ2wzT2F4Q2NuX3BlblZ2TnJTT3JqOXhheGN2VEs3dkg2OUFhenpkdEx6UTNfU0l4R1lzLWVlMkMyMl9EdTUwQXA2Y1dkY09XSzZTUDlqSERKRjV5SW1PeXRBY1NJem9nTFhHZFRSQ3BmZUJFWlZGVnNFbUZ2X29DV3ZQUFdGek5HdWRoRTdWY2FhX2RCT0o0c21MaTY5SkRieEtISUw1bHRQNlI2cGxWTGpma1N2WkRMNzFvVmo4bnhrMkxSVjcxbVBxUFhoRTFkaGgtdVBTM1FKeW02aWQ5SUdqMHZncDFFYnBrSXJuOTdxY1BSMFhaWFQ5WkdkQ19qdGlVbW5mcGVPQVdxOXpmcmlpWk5UZ2VJbU56aVdkVWNJLVBldWZaMHhNNkxwTFVZVlIwNG15UlBqZTNmNHlZUXpfLTB1V0dzMkJVdEtqWQ==\",\"email\":\"jufaerma@redhat.com\"}}}\n"
     ]
    }
   ],
   "source": [
    "! "
   ]
  },
  {
   "cell_type": "code",
   "execution_count": null,
   "metadata": {},
   "outputs": [],
   "source": []
  }
 ],
 "metadata": {
  "kernelspec": {
   "display_name": "Python 3.8.13 64-bit ('3.8.13')",
   "language": "python",
   "name": "python3"
  },
  "language_info": {
   "codemirror_mode": {
    "name": "ipython",
    "version": 3
   },
   "file_extension": ".py",
   "mimetype": "text/x-python",
   "name": "python",
   "nbconvert_exporter": "python",
   "pygments_lexer": "ipython3",
   "version": "3.8.13"
  },
  "orig_nbformat": 4,
  "vscode": {
   "interpreter": {
    "hash": "110cc1dee26208153f2972f08a2ad52b6a56238dc66d48e87fb757ef2996db56"
   }
  }
 },
 "nbformat": 4,
 "nbformat_minor": 2
}

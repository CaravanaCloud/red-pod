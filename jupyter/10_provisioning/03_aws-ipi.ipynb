{
 "cells": [
  {
   "cell_type": "code",
   "execution_count": 9,
   "metadata": {},
   "outputs": [
    {
     "name": "stdout",
     "output_type": "stream",
     "text": [
      "total 4.0K\n",
      "    143304 drwxr-xr-x 2 gitpod gitpod    6 Jul 12 13:36 .\n",
      "2013447704 drwxr-xr-x 8 gitpod gitpod 4.0K Jul 12 13:36 ..\n"
     ]
    }
   ],
   "source": [
    "# Clear Install Dir\n",
    "install_dir=\"/workspace/red-pod/ocp-install-dir\"\n",
    "! rm -rf {install_dir}\n",
    "! mkdir -p {install_dir}\n",
    "! ls -liah {install_dir}"
   ]
  },
  {
   "cell_type": "code",
   "execution_count": 12,
   "metadata": {},
   "outputs": [
    {
     "name": "stdout",
     "output_type": "stream",
     "text": [
      "Environment Variables check\n",
      "2775\n",
      "25\n"
     ]
    }
   ],
   "source": [
    "! echo \"Environment Variables check\"\n",
    "! echo $PULL_SECRET | wc -c\n",
    "! echo $OCP_BASE_DOMAIN | wc -c"
   ]
  },
  {
   "cell_type": "code",
   "execution_count": 9,
   "metadata": {},
   "outputs": [
    {
     "name": "stdout",
     "output_type": "stream",
     "text": [
      "Interactive setup:  openshift-install create install-config --dir \"/workspace/red-pod/install-config/\"\n"
     ]
    }
   ],
   "source": [
    "! echo \"Interactive setup: \" openshift-install create install-config --dir \\\"/workspace/red-pod/install-config/\\\""
   ]
  },
  {
   "cell_type": "code",
   "execution_count": 10,
   "metadata": {},
   "outputs": [
    {
     "name": "stdout",
     "output_type": "stream",
     "text": [
      "Silent setup\n",
      " asdf"
     ]
    }
   ],
   "source": [
    "! echo \"Silent setup\"\n",
    "! mkdir -p \"/workspace/red-pod/install-config/\"\n",
    "! envsubst < \"/workspace/red-pod/jupyter/provisioning/install-config.envsubst.yaml\" > \"/workspace/red-pod/install-config/install-config.yaml\"\n",
    "! head -n 25 \"/workspace/red-pod/install-config/install-config.yaml\""
   ]
  },
  {
   "cell_type": "code",
   "execution_count": null,
   "metadata": {},
   "outputs": [],
   "source": [
    "! openshift-install create cluster --dir \"/workspace/red-pod/install-config\" --log-level=\"info\""
   ]
  },
  {
   "cell_type": "code",
   "execution_count": null,
   "metadata": {},
   "outputs": [],
   "source": []
  },
  {
   "cell_type": "code",
   "execution_count": null,
   "metadata": {},
   "outputs": [],
   "source": [
    "! openshift-install destroy cluster --dir \"/workspace/red-pod/install-config\" --log-level=\"info\""
   ]
  }
 ],
 "metadata": {
  "kernelspec": {
   "display_name": "Python 3.8.13 64-bit ('3.8.13')",
   "language": "python",
   "name": "python3"
  },
  "language_info": {
   "codemirror_mode": {
    "name": "ipython",
    "version": 3
   },
   "file_extension": ".py",
   "mimetype": "text/x-python",
   "name": "python",
   "nbconvert_exporter": "python",
   "pygments_lexer": "ipython3",
   "version": "3.8.13"
  },
  "orig_nbformat": 4,
  "vscode": {
   "interpreter": {
    "hash": "110cc1dee26208153f2972f08a2ad52b6a56238dc66d48e87fb757ef2996db56"
   }
  }
 },
 "nbformat": 4,
 "nbformat_minor": 2
}

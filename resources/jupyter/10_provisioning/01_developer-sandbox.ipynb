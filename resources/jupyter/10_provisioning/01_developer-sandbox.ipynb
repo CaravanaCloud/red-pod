{
 "cells": [
  {
   "cell_type": "markdown",
   "metadata": {},
   "source": [
    "# Red Hat Developer Sandboxes\n",
    "\n",
    "You can use the Red Hat developer sandbox to get started quickly and without costs.\n",
    "Start your developer sandbox at:\n",
    "\n",
    "https://developers.redhat.com/developer-sandbox/get-started"
   ]
  },
  {
   "cell_type": "markdown",
   "metadata": {},
   "source": [
    "Once your sandbox is started, you can navigate to the OpenShift console.\n",
    "In the right hand menu, under your username, you should find the \"copy login command\" option.\n",
    "Try using the terminal or the cell below to log in."
   ]
  },
  {
   "cell_type": "code",
   "execution_count": null,
   "metadata": {},
   "outputs": [],
   "source": [
    "! oc login --token=sha256~0TaJ2_su9tF6zsTLyclHZZEOS_qUaWT6af-f9fphZO8 --server=https://api.sandbox.x8i5.p1.openshiftapps.com:6443"
   ]
  },
  {
   "cell_type": "code",
   "execution_count": null,
   "metadata": {},
   "outputs": [],
   "source": [
    "Verify that your login has been sucessfull:"
   ]
  },
  {
   "cell_type": "code",
   "execution_count": 1,
   "metadata": {},
   "outputs": [
    {
     "name": "stdout",
     "output_type": "stream",
     "text": [
      "faermanj\n"
     ]
    }
   ],
   "source": [
    "! oc whoami"
   ]
  },
  {
   "cell_type": "code",
   "execution_count": null,
   "metadata": {},
   "outputs": [],
   "source": [
    "You should be ready to execute comands and deploy applications."
   ]
  },
  {
   "cell_type": "code",
   "execution_count": 1,
   "metadata": {},
   "outputs": [
    {
     "name": "stdout",
     "output_type": "stream",
     "text": [
      "NAME                                                           READY   STATUS    RESTARTS   AGE\n",
      "workspacei3enugh7l06vbass.che-workspace-pod-7c8cfd9c75-7ltfl   6/6     Running   0          44m\n"
     ]
    }
   ],
   "source": [
    "! oc get pods"
   ]
  },
  {
   "cell_type": "code",
   "execution_count": null,
   "metadata": {},
   "outputs": [],
   "source": [
    "However, some administrative commands are not available in the sandbox.\n",
    "For example, listing the cluster nodes will not be allowed:"
   ]
  },
  {
   "cell_type": "code",
   "execution_count": 2,
   "metadata": {},
   "outputs": [
    {
     "name": "stdout",
     "output_type": "stream",
     "text": [
      "Error from server (Forbidden): nodes is forbidden: User \"faermanj\" cannot list resource \"nodes\" in API group \"\" at the cluster scope\n"
     ]
    }
   ],
   "source": [
    "! oc get nodes"
   ]
  },
  {
   "cell_type": "markdown",
   "metadata": {},
   "source": []
  }
 ],
 "metadata": {
  "kernelspec": {
   "display_name": "Python 3.8.13 64-bit ('3.8.13')",
   "language": "python",
   "name": "python3"
  },
  "language_info": {
   "codemirror_mode": {
    "name": "ipython",
    "version": 3
   },
   "file_extension": ".py",
   "mimetype": "text/x-python",
   "name": "python",
   "nbconvert_exporter": "python",
   "pygments_lexer": "ipython3",
   "version": "3.8.13"
  },
  "orig_nbformat": 4,
  "vscode": {
   "interpreter": {
    "hash": "110cc1dee26208153f2972f08a2ad52b6a56238dc66d48e87fb757ef2996db56"
   }
  }
 },
 "nbformat": 4,
 "nbformat_minor": 2
}

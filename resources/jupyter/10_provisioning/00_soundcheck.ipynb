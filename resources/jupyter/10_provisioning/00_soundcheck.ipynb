{
 "cells": [
  {
   "cell_type": "markdown",
   "metadata": {},
   "source": [
    "# Temp SSH key"
   ]
  },
  {
   "cell_type": "code",
   "execution_count": 2,
   "metadata": {},
   "outputs": [
    {
     "name": "stdout",
     "output_type": "stream",
     "text": [
      "-rw------- 1 gitpod gitpod 444 Jul 12 14:52 /tmp/temp_ssh\n",
      "-rw-r--r-- 1 gitpod gitpod 121 Jul 12 14:52 /tmp/temp_ssh.pub\n"
     ]
    }
   ],
   "source": [
    "! rm -rf \"/tmp/temp_ssh\"\n",
    "! ssh-keygen -b \"2048\" -t \"ed25519\" -f \"/tmp/temp_ssh\" -q -N \"\"\n",
    "! ls -l \"/tmp/temp_ssh\"*"
   ]
  },
  {
   "cell_type": "code",
   "execution_count": null,
   "metadata": {},
   "outputs": [],
   "source": []
  }
 ],
 "metadata": {
  "kernelspec": {
   "display_name": "Python 3.8.13 64-bit ('3.8.13')",
   "language": "python",
   "name": "python3"
  },
  "language_info": {
   "codemirror_mode": {
    "name": "ipython",
    "version": 3
   },
   "file_extension": ".py",
   "mimetype": "text/x-python",
   "name": "python",
   "nbconvert_exporter": "python",
   "pygments_lexer": "ipython3",
   "version": "3.8.13"
  },
  "orig_nbformat": 4,
  "vscode": {
   "interpreter": {
    "hash": "110cc1dee26208153f2972f08a2ad52b6a56238dc66d48e87fb757ef2996db56"
   }
  }
 },
 "nbformat": 4,
 "nbformat_minor": 2
}
